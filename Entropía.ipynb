{
  "nbformat": 4,
  "nbformat_minor": 0,
  "metadata": {
    "colab": {
      "provenance": [],
      "authorship_tag": "ABX9TyMPwRo6lBnEKVaK8Pznit5Z",
      "include_colab_link": true
    },
    "kernelspec": {
      "name": "python3",
      "display_name": "Python 3"
    },
    "language_info": {
      "name": "python"
    }
  },
  "cells": [
    {
      "cell_type": "markdown",
      "metadata": {
        "id": "view-in-github",
        "colab_type": "text"
      },
      "source": [
        "<a href=\"https://colab.research.google.com/github/Mariyselita/TLN/blob/main/Entrop%C3%ADa.ipynb\" target=\"_parent\"><img src=\"https://colab.research.google.com/assets/colab-badge.svg\" alt=\"Open In Colab\"/></a>"
      ]
    },
    {
      "cell_type": "code",
      "execution_count": null,
      "metadata": {
        "colab": {
          "base_uri": "https://localhost:8080/"
        },
        "id": "1UQP1xLyE6le",
        "outputId": "1dc2a162-e18c-44c2-eba7-4929a56f4435"
      },
      "outputs": [
        {
          "output_type": "stream",
          "name": "stdout",
          "text": [
            "Drive already mounted at /content/drive; to attempt to forcibly remount, call drive.mount(\"/content/drive\", force_remount=True).\n"
          ]
        }
      ],
      "source": [
        "from google.colab import drive\n",
        "drive.mount('/content/drive')"
      ]
    },
    {
      "cell_type": "code",
      "source": [
        "filepath = '/content/drive/My Drive/TLN/e990624_mod.htm'"
      ],
      "metadata": {
        "id": "ocDdD9B0Fiyp"
      },
      "execution_count": null,
      "outputs": []
    },
    {
      "cell_type": "markdown",
      "source": [],
      "metadata": {
        "id": "Iz3n1cc8-f2Z"
      }
    },
    {
      "cell_type": "code",
      "source": [
        "with open(filepath, 'r', encoding='utf-8') as file:\n",
        "    content = file.read()"
      ],
      "metadata": {
        "id": "frqC8h1hFvBN"
      },
      "execution_count": null,
      "outputs": []
    },
    {
      "cell_type": "code",
      "source": [
        "from bs4 import BeautifulSoup\n",
        "import re\n",
        "from collections import Counter\n",
        "import math"
      ],
      "metadata": {
        "id": "XQBlFEgyF8VQ"
      },
      "execution_count": null,
      "outputs": []
    },
    {
      "cell_type": "code",
      "source": [
        "soup = BeautifulSoup(content, 'html.parser')\n",
        "text = soup.get_text()"
      ],
      "metadata": {
        "id": "m_j_FgytGCBg"
      },
      "execution_count": null,
      "outputs": []
    },
    {
      "cell_type": "code",
      "source": [
        "cleaned_text = re.sub(r'\\s+', ' ', text)  # Remover espacios extra\n",
        "cleaned_text = re.sub(r'[^\\w\\s]', '', cleaned_text)  # Remover puntuación\n",
        "cleaned_text = cleaned_text.lower()  # Convertir a minúsculas"
      ],
      "metadata": {
        "id": "nSVhAuutGGTY"
      },
      "execution_count": null,
      "outputs": []
    },
    {
      "cell_type": "code",
      "source": [
        "words = cleaned_text.split()\n",
        "\n",
        "def generate_ngrams(words, n=3):\n",
        "    ngrams = zip(*[words[i:] for i in range(n)])\n",
        "    return [\" \".join(ngram) for ngram in ngrams]\n",
        "\n",
        "trigrams = generate_ngrams(words, 3)\n",
        "for trigram in trigrams[:20]:\n",
        "    print(trigram)\n",
        "\n",
        "from collections import Counter\n",
        "trigram_freq = Counter(trigrams)"
      ],
      "metadata": {
        "colab": {
          "base_uri": "https://localhost:8080/"
        },
        "id": "7U3CCBVkGJsL",
        "outputId": "3235b8b5-0a30-45c2-cc38-000ff5cb3cb0"
      },
      "execution_count": null,
      "outputs": [
        {
          "output_type": "stream",
          "name": "stdout",
          "text": [
            "e990624_modhtm httpwwwexcelsiorcommx9906990624art01html excelsior\n",
            "httpwwwexcelsiorcommx9906990624art01html excelsior editorial\n",
            "excelsior editorial jueves\n",
            "editorial jueves 24\n",
            "jueves 24 de\n",
            "24 de junio\n",
            "de junio de\n",
            "junio de 1999\n",
            "de 1999 epigrama\n",
            "1999 epigrama jorge\n",
            "epigrama jorge mansilla\n",
            "jorge mansilla torres\n",
            "mansilla torres el\n",
            "torres el hombre\n",
            "el hombre empezó\n",
            "hombre empezó a\n",
            "empezó a hablar\n",
            "a hablar hace\n",
            "hablar hace dos\n",
            "hace dos y\n"
          ]
        }
      ]
    },
    {
      "cell_type": "code",
      "source": [
        "import math\n",
        "\n",
        "def calculate_entropy(word, ngrams, ngram_freq):\n",
        "    filtered_ngrams = [ngram for ngram in ngrams if word in ngram.split()]\n",
        "    total_count = sum(ngram_freq[ngram] for ngram in filtered_ngrams)\n",
        "\n",
        "    entropy = -sum((ngram_freq[ngram] / total_count) * math.log(ngram_freq[ngram] / total_count, 2)\n",
        "                   for ngram in filtered_ngrams if ngram_freq[ngram] > 0)\n",
        "    return entropy\n",
        "\n",
        "entropy_crecimiento = calculate_entropy(\"crecimiento\", trigrams, trigram_freq)\n",
        "entropy_rapido = calculate_entropy(\"rápido\", trigrams, trigram_freq)\n",
        "\n",
        "print(entropy_crecimiento, entropy_rapido)"
      ],
      "metadata": {
        "colab": {
          "base_uri": "https://localhost:8080/"
        },
        "id": "hCQqn6-xKgm6",
        "outputId": "47429e00-3d0c-4e57-e7b2-5055cc4f0c81"
      },
      "execution_count": null,
      "outputs": [
        {
          "output_type": "stream",
          "name": "stdout",
          "text": [
            "7.063026719688196 0\n"
          ]
        }
      ]
    },
    {
      "cell_type": "code",
      "source": [
        "import math\n",
        "from collections import Counter\n",
        "\n",
        "def calculate_cross_entropy(ngrams, ngram_freq):\n",
        "    total_count = sum(ngram_freq.values())\n",
        "    # Probabilidad uniforme (distribución \"verdadera\")\n",
        "    p_true = 1 / len(ngram_freq)\n",
        "\n",
        "    # Cálculo de la entropía cruzada\n",
        "    cross_entropy = -sum((ngram_freq[ngram] / total_count) * math.log(p_true) for ngram in ngram_freq)\n",
        "    return cross_entropy\n",
        "\n",
        "# Ejemplo de uso\n",
        "cross_entropy = calculate_cross_entropy(trigrams, trigram_freq)\n",
        "print(\"Entropía cruzada:\", cross_entropy)"
      ],
      "metadata": {
        "colab": {
          "base_uri": "https://localhost:8080/"
        },
        "id": "JOSCP78WK6B4",
        "outputId": "3906e22f-9bdb-4246-b0a1-9d2336e9d342"
      },
      "execution_count": null,
      "outputs": [
        {
          "output_type": "stream",
          "name": "stdout",
          "text": [
            "Entropía cruzada: 10.799453120622253\n"
          ]
        }
      ]
    }
  ]
}